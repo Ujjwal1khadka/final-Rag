{
 "cells": [
  {
   "cell_type": "code",
   "execution_count": 186,
   "metadata": {},
   "outputs": [],
   "source": [
    "# !pip install \\\n",
    "#   langchain_community \\\n",
    "#   langchain_pinecone \\\n",
    "#   langchain_openai \\\n",
    "#   unstructured \\\n",
    "#   langchain-text-splitters \\\n",
    "#   pinecone-text "
   ]
  },
  {
   "cell_type": "code",
   "execution_count": 206,
   "metadata": {},
   "outputs": [],
   "source": [
    "from langchain_pinecone import PineconeVectorStore\n",
    "from langchain_community.retrievers import (\n",
    "    PineconeHybridSearchRetriever)\n",
    "#from pinecone.grpc import PineconeGRPC as Pinecone\n",
    "#from langchain.vectorstores import PineconeVectorStore  \n",
    "from langchain.prompts import ChatPromptTemplate\n",
    "from langchain_openai import OpenAIEmbeddings\n",
    "from langchain_community.document_loaders import DirectoryLoader\n",
    "from langchain_text_splitters import RecursiveCharacterTextSplitter\n",
    "from langchain_core.runnables import RunnableParallel, RunnablePassthrough\n",
    "from langchain.chains import RetrievalQA\n",
    "from langchain_openai import OpenAI\n",
    "from langchain.document_loaders import TextLoader\n",
    "from langchain_core.runnables import Runnable\n",
    "from pinecone import ServerlessSpec\n",
    "import pandas as pd\n",
    "import itertools\n",
    "from uuid import uuid4\n",
    "from sentence_transformers import SentenceTransformer\n",
    "from tqdm.auto import tqdm\n",
    "from dotenv import load_dotenv\n",
    "import pinecone\n",
    "import uuid\n",
    "import os\n",
    "import glob\n",
    "import getpass\n",
    "import pylibmagic\n",
    "import hashlib\n",
    "from tqdm.autonotebook import tqdm\n",
    "from langchain.storage import InMemoryStore\n",
    "from langchain_core.prompts import PromptTemplate\n",
    "from langchain_openai import ChatOpenAI\n",
    "from langchain_core.output_parsers import StrOutputParser\n",
    "from pinecone import Pinecone\n",
    "from pinecone.grpc import PineconeGRPC as Pinecone"
   ]
  },
  {
   "cell_type": "code",
   "execution_count": 96,
   "metadata": {},
   "outputs": [],
   "source": [
    "#  import nltk\n",
    "#  nltk.download('punkt')"
   ]
  },
  {
   "cell_type": "code",
   "execution_count": 207,
   "metadata": {},
   "outputs": [],
   "source": [
    "load_dotenv()\n",
    "# Fetch API keys from environment variables\n",
    "openai_api_key = os.getenv('OPENAI_API_KEY')\n",
    "pinecone_api_key = os.getenv('PINECONE_API_KEY')\n",
    "\n",
    "\n",
    "# Set the environment variables\n",
    "if openai_api_key:\n",
    "    os.environ['OPENAI_API_KEY'] = openai_api_key\n",
    "if pinecone_api_key:\n",
    "    os.environ['PINECONE_API_KEY'] = pinecone_api_key \n",
    "\n",
    "#Verify that the keys are loaded\n",
    "#print(f\"OpenAI API Key: {os.environ.get('OPENAI_API_KEY')}\")\n",
    "#print(f\"Pinecone API Key: {os.environ.get('PINECONE_API_KEY')}\")"
   ]
  },
  {
   "cell_type": "markdown",
   "metadata": {},
   "source": [
    "## Embedding model setup"
   ]
  },
  {
   "cell_type": "code",
   "execution_count": 208,
   "metadata": {},
   "outputs": [
    {
     "data": {
      "text/plain": [
       "OpenAIEmbeddings(client=<openai.resources.embeddings.Embeddings object at 0x3759db6d0>, async_client=<openai.resources.embeddings.AsyncEmbeddings object at 0x3759ce8b0>, model='text-embedding-ada-002', dimensions=None, deployment='text-embedding-ada-002', openai_api_version=None, openai_api_base=None, openai_api_type=None, openai_proxy=None, embedding_ctx_length=8191, openai_api_key=SecretStr('**********'), openai_organization=None, allowed_special=None, disallowed_special=None, chunk_size=1000, max_retries=2, request_timeout=None, headers=None, tiktoken_enabled=True, tiktoken_model_name=None, show_progress_bar=False, model_kwargs={}, skip_empty=False, default_headers=None, default_query=None, retry_min_seconds=4, retry_max_seconds=20, http_client=None, http_async_client=None, check_embedding_ctx_length=True)"
      ]
     },
     "execution_count": 208,
     "metadata": {},
     "output_type": "execute_result"
    }
   ],
   "source": [
    "#os.environ[\"HUGGINGFACEHUB_API_TOKEN\"]=\"HUGGINGFACEHUB_API_TOKEN\"\n",
    "embeddings = OpenAIEmbeddings(\n",
    "    model=\"text-embedding-ada-002\",                             #response time is 9s  #infloat/e5-base-V2 has 3.53sec response time.\n",
    ")\n",
    "embeddings\n"
   ]
  },
  {
   "cell_type": "markdown",
   "metadata": {},
   "source": [
    "## Pinecone Setup"
   ]
  },
  {
   "cell_type": "code",
   "execution_count": null,
   "metadata": {},
   "outputs": [],
   "source": [
    "if not os.getenv(\"PINECONE_API_KEY\"):\n",
    "    os.environ[\"PINECONE_API_KEY\"] = getpass.getpass(\"Enter your Pinecone API key: \")\n",
    "\n",
    "pinecone_api_key = os.environ.get(\"PINECONE_API_KEY\")\n",
    "\n",
    "pc = Pinecone(api_key=pinecone_api_key)\n",
    "import time\n",
    "\n",
    "index_name = \"vitafy-prod\"  \n",
    "\n",
    "existing_indexes = [index_info[\"name\"] for index_info in pc.list_indexes()]\n",
    "\n",
    "if index_name not in existing_indexes:\n",
    "    pc.create_index(\n",
    "        name=index_name,\n",
    "        dimension=3072,\n",
    "        metric=\"cosine\",\n",
    "        spec=ServerlessSpec(cloud=\"aws\", region=\"us-east-1\"),\n",
    "    )\n",
    "    while not pc.describe_index(index_name).status[\"ready\"]:\n",
    "        time.sleep(1)\n",
    "\n",
    "index = pc.Index(index_name)\n",
    "#pc.list_indexes()"
   ]
  },
  {
   "cell_type": "code",
   "execution_count": null,
   "metadata": {},
   "outputs": [],
   "source": []
  },
  {
   "cell_type": "markdown",
   "metadata": {},
   "source": [
    "## Load Documents"
   ]
  },
  {
   "cell_type": "code",
   "execution_count": null,
   "metadata": {},
   "outputs": [],
   "source": [
    "# directory = 'data'\n",
    "\n",
    "# def load_docs(directory):\n",
    "#     loader = DirectoryLoader(directory)\n",
    "#     docs = loader.load()\n",
    "#     return docs\n",
    "\n",
    "# docs = load_docs(directory)"
   ]
  },
  {
   "cell_type": "code",
   "execution_count": 210,
   "metadata": {},
   "outputs": [],
   "source": [
    "\n",
    "directory = 'data'\n",
    "\n",
    "def load_docs(directory, tenant_id):\n",
    "    loader = DirectoryLoader(directory)\n",
    "    docs = loader.load()\n",
    "    \n",
    "    for doc in docs:\n",
    "        doc.metadata['tenantId'] = tenant_id  \n",
    "\n",
    "    return docs\n",
    "\n",
    "tenant_id = \"tenant456\"\n",
    "docs = load_docs(directory, tenant_id)"
   ]
  },
  {
   "cell_type": "markdown",
   "metadata": {},
   "source": [
    "## Generate uniqueId for Docs"
   ]
  },
  {
   "cell_type": "code",
   "execution_count": null,
   "metadata": {},
   "outputs": [],
   "source": [
    "vectorstore = PineconeVectorStore(index_name=index_name, embedding=embeddings)\n",
    "\n",
    "#uuids = [str(uuid4()) for _ in range(len(docs))]\n",
    "#vectorstore = vectorstore.add_documents(documents=docs, ids=uuids)\n",
    "vectorstore = vectorstore.add_documents(documents=docs)\n"
   ]
  },
  {
   "cell_type": "code",
   "execution_count": 211,
   "metadata": {},
   "outputs": [],
   "source": [
    "chunk_size = 1000 \n",
    "chunk_overlap = 20\n",
    "\n",
    "text_splitter = RecursiveCharacterTextSplitter(chunk_size=chunk_size, chunk_overlap=chunk_overlap)\n",
    "\n",
    "split_docs = text_splitter.split_documents(docs)"
   ]
  },
  {
   "cell_type": "markdown",
   "metadata": {},
   "source": [
    "## Initialize Vector store"
   ]
  },
  {
   "cell_type": "code",
   "execution_count": null,
   "metadata": {},
   "outputs": [],
   "source": [
    "index_name = \"vitafy-prod\"\n",
    "\n",
    "# vectorstore = PineconeVectorStore.from_documents(split_docs, embeddings, index_name=index_name)\n",
    "# #vectorstore = PineconeVectorStore(index=index, embedding=embeddings)\n",
    "# #vectorstore = PineconeVectorStore(split_docs, embeddings, index=index)\n",
    "#vectorstore = PineconeVectorStore.from_documents(split_docs, index_name=index_name,embedding=embeddings)\n",
    "\n",
    "vectorstore = PineconeVectorStore(index_name=index_name, embedding=embeddings)\n"
   ]
  },
  {
   "cell_type": "code",
   "execution_count": 222,
   "metadata": {},
   "outputs": [
    {
     "data": {
      "text/plain": [
       "[Document(metadata={'source': 'data/tenant456/_Billings Module ✓.docx', 'tenantId': 'tenant456'}, page_content=\"support@vitafyhealth.com | 1-866-4-Vitafy\\n\\nBillings Module\\n\\nSeptember, 2024\\n\\nOverview\\n\\nManaging client billing and service requests is a seamless process with our system. Clients can be billed through a subscription model with the option to access additional services or memberships, and members can request specific services as needed. The billings module allows you to handle transaction statuses and receipts and provides a clear view of upcoming and failed transactions through dedicated tabs.\\n\\n Within the settings module, you can conveniently manage custom service offerings.\\n\\nIntegrated Billings\\n\\nBill clients for memberships or one time transactions straight from within the portal. The portal gives you the option for multiple payment methods including credit/debit, bank transfer and cash. \\n\\nManage Transactions\\n\\nScheduled transactions can be put on hold or canceled from the upcoming tab using the ellipses. Transactions can be refunded from within the portal as well.\\n\\nHow To\\n\\nView all client transactions\\n\\nView/email receipt\\n\\nFilter transaction\\n\\nAdd a transaction / offering\\n\\nIssue a refund\\n\\nView upcoming transactions\\n\\nHold/cancel upcoming transactions\\n\\nView Failed transactions\\n\\nTransactions \\n\\nThis tab has all the information about client transactions including recurring memberships or one-time payments. Transaction type is shown in the description column, if the transaction is for a recurring membership, the dates covered will be shown in the pay period column. Transaction status (succeeded or failed) can also be viewed here. \\n\\nQuick View function (+)\\n\\nThe purpose of this view is to provide a convenient overview of recurring memberships and non-recurring offerings for each client transaction. \\n\\nClick on the + sign on the left-hand side of transactions to get a quick view of client transactions.\\n\\nView/email receipt: \\n\\nReceipts include information such as receipt ID, date/time of the transaction, type of transaction (recurring membership/non-recurring offering/custom offering charges), and the full amount of the transaction. \\n\\nReceipts for each transaction can be viewed and emailed to clients. \\n\\nGo to ⋮ on the far right of the transaction.\\n\\nOption to add notes to the transaction\\n\\nOption to view receipt\\n\\nReceipt will open in a new tab and can be printed by using the  icon on the top right corner\\n\\nOption to email receipt\\n\\nBy clicking confirm, the receipt will be emailed directly to the client.\\n\\nFilter transactions\\n\\nTransactions can be filtered based on clients’ names, transaction start/end date, or transaction offering type. \\n\\nTransactions can be looked up using the search bar to type the client's name, or by using one or multiple filters.\\n\\nUse the  filter icon to filter by:\\n\\nClient First Name\\n\\nClient Last Name\\n\\nTransaction Start Date i.e. membership start date\\n\\nTransaction End Date i.e. membership/pay period end date\\n\\nOffering i.e. one-time transactions\\n\\nAdd a one-time transaction\\n\\nOfferings are non-recurring transactions that can be added for patients with or without an approved membership. \\n\\nClick on the +Add button on the top right\\n\\nSelect a patient from the drop-down\\n\\nSelect an offering\\n\\nOfferings options can be updated by admins in the settings > ancillary offering\\n\\nCustom one-time offerings can be selected by choosing the “Others” option and adding a custom price. (Option to add a note)\\n\\nSelect from payment options:\\n\\nUse the card on file for the selected patient\\n\\nAdd Credit/Debit card\\n\\nBank Transfer\\n\\nCash\\n\\nThis can also be done from the clients module using ⋮ > Add transaction\\n\\nIssue a refund\\n\\nTransactions that have successfully been charged can be refunded back to the original form of payment.\\n\\nUse the ellipses ⋮  on the far right of the transaction you want to refund and choose the refund option.\\n\\nUpcoming transactions\\n\\nThis tab lists clients who are enrolled in recurring memberships and provides details on upcoming transaction charges depending on membership start date and amount. \\n\\nQuick View function (+)\\n\\nThe purpose of this view is to provide a convenient overview of upcoming recurring memberships and non-recurring offerings.\\n\\nClick on the + sign on the left-hand side of transactions to get a quick view of upcoming transaction details.\\n\\nHold/Cancel upcoming transactions\\n\\nUpcoming transactions can be put on hold. This will stop the transaction from being charged to the payment method on file until it has been reactivated. Upcoming recurring charges can be canceled for that particular time period, however, to stop these charges indefinitely, the patient’s membership needs to be canceled by using the clients module. \\n\\nGo to the upcoming transactions tab and use the ellipses ⋮ on the far right of the transaction:\\n\\nChoose  on  hold option. Once put on hold, memberships can be reactivated by choosing the  Activate option\\n\\nChoosethe Cancel option to cancel the particular upcoming transaction (does not cancel all following transactions for that membership).\\n\\nFailed transactions\\n\\nFailed transactions are transactions that did not go through due to issues in the form of the payment method selected for that transaction. It can be viewed using the failed transaction tab. \\n\\nNOTE:  If there are any missing items or if you require access to something mentioned above, please feel free to contact Vitafy support at support@vitafyhealth.com for any inquiries.\")]"
      ]
     },
     "execution_count": 222,
     "metadata": {},
     "output_type": "execute_result"
    }
   ],
   "source": [
    "docs"
   ]
  },
  {
   "cell_type": "code",
   "execution_count": null,
   "metadata": {},
   "outputs": [],
   "source": []
  },
  {
   "cell_type": "markdown",
   "metadata": {},
   "source": [
    "## qa_chain"
   ]
  },
  {
   "cell_type": "code",
   "execution_count": 105,
   "metadata": {},
   "outputs": [],
   "source": [
    "# retriever = vectorstore.as_retriever(\n",
    "#     search_type=\"similarity\",\n",
    "#     search_kwargs={\n",
    "#         \"k\": 1,\n",
    "#             \"filter\" : {\n",
    "#         'source': {'$eq': 'data/xyz/Cases Module ✓.docx'}  \n",
    "#     },\n",
    "#             }\n",
    "# )\n",
    "\n",
    "# llm = ChatOpenAI(\n",
    "#     model=\"gpt-4o\",\n",
    "#     temperature=0.0,\n",
    "# )\n",
    "\n",
    "# qa = RetrievalQA.from_chain_type(\n",
    "#     llm=llm,\n",
    "#     chain_type=\"stuff\",\n",
    "#     retriever=vectorstore.as_retriever(),\n",
    "\n",
    "# )\n",
    "# qa.invoke(\"how to issue a refund? \")"
   ]
  },
  {
   "cell_type": "markdown",
   "metadata": {},
   "source": [
    "## Template"
   ]
  },
  {
   "cell_type": "code",
   "execution_count": 106,
   "metadata": {},
   "outputs": [],
   "source": [
    "#query1 = \"how to make a new case?\"\n"
   ]
  },
  {
   "cell_type": "markdown",
   "metadata": {},
   "source": [
    "## With and Without Knowledge Base\n"
   ]
  },
  {
   "cell_type": "code",
   "execution_count": 107,
   "metadata": {},
   "outputs": [],
   "source": [
    "# print(\"Chat with knowledge:\")\n",
    "# print(qa.invoke(query1).get(\"result\"))\n",
    "# #print(\"\\nChat without knowledge:\")\n",
    "# print(llm.invoke(query1).content)"
   ]
  },
  {
   "cell_type": "markdown",
   "metadata": {},
   "source": [
    "## Filter based on built-in metadata [Source]"
   ]
  },
  {
   "cell_type": "code",
   "execution_count": 108,
   "metadata": {},
   "outputs": [
    {
     "data": {
      "text/plain": [
       "[Document(metadata={'source': 'data/abc/_Billings Module ✓.docx', 'text': \"support@vitafyhealth.com | 1-866-4-Vitafy\\n\\nBillings Module\\n\\nSeptember, 2024\\n\\nOverview\\n\\nManaging client billing and service requests is a seamless process with our system. Clients can be billed through a subscription model with the option to access additional services or memberships, and members can request specific services as needed. The billings module allows you to handle transaction statuses and receipts and provides a clear view of upcoming and failed transactions through dedicated tabs.\\n\\n Within the settings module, you can conveniently manage custom service offerings.\\n\\nIntegrated Billings\\n\\nBill clients for memberships or one time transactions straight from within the portal. The portal gives you the option for multiple payment methods including credit/debit, bank transfer and cash. \\n\\nManage Transactions\\n\\nScheduled transactions can be put on hold or canceled from the upcoming tab using the ellipses. Transactions can be refunded from within the portal as well.\\n\\nHow To\\n\\nView all client transactions\\n\\nView/email receipt\\n\\nFilter transaction\\n\\nAdd a transaction / offering\\n\\nIssue a refund\\n\\nView upcoming transactions\\n\\nHold/cancel upcoming transactions\\n\\nView Failed transactions\\n\\nTransactions \\n\\nThis tab has all the information about client transactions including recurring memberships or one-time payments. Transaction type is shown in the description column, if the transaction is for a recurring membership, the dates covered will be shown in the pay period column. Transaction status (succeeded or failed) can also be viewed here. \\n\\nQuick View function (+)\\n\\nThe purpose of this view is to provide a convenient overview of recurring memberships and non-recurring offerings for each client transaction. \\n\\nClick on the + sign on the left-hand side of transactions to get a quick view of client transactions.\\n\\nView/email receipt: \\n\\nReceipts include information such as receipt ID, date/time of the transaction, type of transaction (recurring membership/non-recurring offering/custom offering charges), and the full amount of the transaction. \\n\\nReceipts for each transaction can be viewed and emailed to clients. \\n\\nGo to ⋮ on the far right of the transaction.\\n\\nOption to add notes to the transaction\\n\\nOption to view receipt\\n\\nReceipt will open in a new tab and can be printed by using the  icon on the top right corner\\n\\nOption to email receipt\\n\\nBy clicking confirm, the receipt will be emailed directly to the client.\\n\\nFilter transactions\\n\\nTransactions can be filtered based on clients’ names, transaction start/end date, or transaction offering type. \\n\\nTransactions can be looked up using the search bar to type the client's name, or by using one or multiple filters.\\n\\nUse the  filter icon to filter by:\\n\\nClient First Name\\n\\nClient Last Name\\n\\nTransaction Start Date i.e. membership start date\\n\\nTransaction End Date i.e. membership/pay period end date\\n\\nOffering i.e. one-time transactions\\n\\nAdd a one-time transaction\\n\\nOfferings are non-recurring transactions that can be added for patients with or without an approved membership. \\n\\nClick on the +Add button on the top right\\n\\nSelect a patient from the drop-down\\n\\nSelect an offering\\n\\nOfferings options can be updated by admins in the settings > ancillary offering\\n\\nCustom one-time offerings can be selected by choosing the “Others” option and adding a custom price. (Option to add a note)\\n\\nSelect from payment options:\\n\\nUse the card on file for the selected patient\\n\\nAdd Credit/Debit card\\n\\nBank Transfer\\n\\nCash\\n\\nThis can also be done from the clients module using ⋮ > Add transaction\\n\\nIssue a refund\\n\\nTransactions that have successfully been charged can be refunded back to the original form of payment.\\n\\nUse the ellipses ⋮  on the far right of the transaction you want to refund and choose the refund option.\\n\\nUpcoming transactions\\n\\nThis tab lists clients who are enrolled in recurring memberships and provides details on upcoming transaction charges depending on membership start date and amount. \\n\\nQuick View function (+)\\n\\nThe purpose of this view is to provide a convenient overview of upcoming recurring memberships and non-recurring offerings.\\n\\nClick on the + sign on the left-hand side of transactions to get a quick view of upcoming transaction details.\\n\\nHold/Cancel upcoming transactions\\n\\nUpcoming transactions can be put on hold. This will stop the transaction from being charged to the payment method on file until it has been reactivated. Upcoming recurring charges can be canceled for that particular time period, however, to stop these charges indefinitely, the patient’s membership needs to be canceled by using the clients module. \\n\\nGo to the upcoming transactions tab and use the ellipses ⋮ on the far right of the transaction:\\n\\nChoose  on  hold option. Once put on hold, memberships can be reactivated by choosing the  Activate option\\n\\nChoosethe Cancel option to cancel the particular upcoming transaction (does not cancel all following transactions for that membership).\\n\\nFailed transactions\\n\\nFailed transactions are transactions that did not go through due to issues in the form of the payment method selected for that transaction. It can be viewed using the failed transaction tab. \\n\\nNOTE:  If there are any missing items or if you require access to something mentioned above, please feel free to contact Vitafy support at support@vitafyhealth.com for any inquiries.\"}, page_content=\"support@vitafyhealth.com | 1-866-4-Vitafy\\n\\nBillings Module\\n\\nSeptember, 2024\\n\\nOverview\\n\\nManaging client billing and service requests is a seamless process with our system. Clients can be billed through a subscription model with the option to access additional services or memberships, and members can request specific services as needed. The billings module allows you to handle transaction statuses and receipts and provides a clear view of upcoming and failed transactions through dedicated tabs.\\n\\n Within the settings module, you can conveniently manage custom service offerings.\\n\\nIntegrated Billings\\n\\nBill clients for memberships or one time transactions straight from within the portal. The portal gives you the option for multiple payment methods including credit/debit, bank transfer and cash. \\n\\nManage Transactions\\n\\nScheduled transactions can be put on hold or canceled from the upcoming tab using the ellipses. Transactions can be refunded from within the portal as well.\\n\\nHow To\\n\\nView all client transactions\\n\\nView/email receipt\\n\\nFilter transaction\\n\\nAdd a transaction / offering\\n\\nIssue a refund\\n\\nView upcoming transactions\\n\\nHold/cancel upcoming transactions\\n\\nView Failed transactions\\n\\nTransactions \\n\\nThis tab has all the information about client transactions including recurring memberships or one-time payments. Transaction type is shown in the description column, if the transaction is for a recurring membership, the dates covered will be shown in the pay period column. Transaction status (succeeded or failed) can also be viewed here. \\n\\nQuick View function (+)\\n\\nThe purpose of this view is to provide a convenient overview of recurring memberships and non-recurring offerings for each client transaction. \\n\\nClick on the + sign on the left-hand side of transactions to get a quick view of client transactions.\\n\\nView/email receipt: \\n\\nReceipts include information such as receipt ID, date/time of the transaction, type of transaction (recurring membership/non-recurring offering/custom offering charges), and the full amount of the transaction. \\n\\nReceipts for each transaction can be viewed and emailed to clients. \\n\\nGo to ⋮ on the far right of the transaction.\\n\\nOption to add notes to the transaction\\n\\nOption to view receipt\\n\\nReceipt will open in a new tab and can be printed by using the  icon on the top right corner\\n\\nOption to email receipt\\n\\nBy clicking confirm, the receipt will be emailed directly to the client.\\n\\nFilter transactions\\n\\nTransactions can be filtered based on clients’ names, transaction start/end date, or transaction offering type. \\n\\nTransactions can be looked up using the search bar to type the client's name, or by using one or multiple filters.\\n\\nUse the  filter icon to filter by:\\n\\nClient First Name\\n\\nClient Last Name\\n\\nTransaction Start Date i.e. membership start date\\n\\nTransaction End Date i.e. membership/pay period end date\\n\\nOffering i.e. one-time transactions\\n\\nAdd a one-time transaction\\n\\nOfferings are non-recurring transactions that can be added for patients with or without an approved membership. \\n\\nClick on the +Add button on the top right\\n\\nSelect a patient from the drop-down\\n\\nSelect an offering\\n\\nOfferings options can be updated by admins in the settings > ancillary offering\\n\\nCustom one-time offerings can be selected by choosing the “Others” option and adding a custom price. (Option to add a note)\\n\\nSelect from payment options:\\n\\nUse the card on file for the selected patient\\n\\nAdd Credit/Debit card\\n\\nBank Transfer\\n\\nCash\\n\\nThis can also be done from the clients module using ⋮ > Add transaction\\n\\nIssue a refund\\n\\nTransactions that have successfully been charged can be refunded back to the original form of payment.\\n\\nUse the ellipses ⋮  on the far right of the transaction you want to refund and choose the refund option.\\n\\nUpcoming transactions\\n\\nThis tab lists clients who are enrolled in recurring memberships and provides details on upcoming transaction charges depending on membership start date and amount. \\n\\nQuick View function (+)\\n\\nThe purpose of this view is to provide a convenient overview of upcoming recurring memberships and non-recurring offerings.\\n\\nClick on the + sign on the left-hand side of transactions to get a quick view of upcoming transaction details.\\n\\nHold/Cancel upcoming transactions\\n\\nUpcoming transactions can be put on hold. This will stop the transaction from being charged to the payment method on file until it has been reactivated. Upcoming recurring charges can be canceled for that particular time period, however, to stop these charges indefinitely, the patient’s membership needs to be canceled by using the clients module. \\n\\nGo to the upcoming transactions tab and use the ellipses ⋮ on the far right of the transaction:\\n\\nChoose  on  hold option. Once put on hold, memberships can be reactivated by choosing the  Activate option\\n\\nChoosethe Cancel option to cancel the particular upcoming transaction (does not cancel all following transactions for that membership).\\n\\nFailed transactions\\n\\nFailed transactions are transactions that did not go through due to issues in the form of the payment method selected for that transaction. It can be viewed using the failed transaction tab. \\n\\nNOTE:  If there are any missing items or if you require access to something mentioned above, please feel free to contact Vitafy support at support@vitafyhealth.com for any inquiries.\")]"
      ]
     },
     "execution_count": 108,
     "metadata": {},
     "output_type": "execute_result"
    }
   ],
   "source": [
    "docs"
   ]
  },
  {
   "cell_type": "markdown",
   "metadata": {},
   "source": [
    "## Retriveal QA chain [Final RAG Chain]"
   ]
  },
  {
   "cell_type": "code",
   "execution_count": 221,
   "metadata": {},
   "outputs": [
    {
     "name": "stdout",
     "output_type": "stream",
     "text": [
      "{'query': 'How to add a new case?', 'result': 'To add a new case, follow these steps:\\n\\n1. Go to the Cases module from the left menu bar.\\n2. Click on the Create button.\\n3. If you are creating a case for an existing client, type in the name of the client.\\n4. If you are creating a case for a new patient, use the Add Patient button.\\n5. Click next.\\n6. Add service (Optional).\\n7. Click Save.\\n\\nRemember that only cases assigned to you will be shown by default under the cases module.'}\n"
     ]
    }
   ],
   "source": [
    "\n",
    "retriever = vectorstore.as_retriever(\n",
    "    #search_type=\"similarity\",\n",
    "    search_kwargs={\n",
    "        \"k\": 1,\n",
    "            \"filter\" : {\n",
    "        'tenantId': {'$eq': 'tenant123'}  \n",
    "    },\n",
    "            }\n",
    ")\n",
    "\n",
    "llm = ChatOpenAI(\n",
    "    #model=\"gpt-4o\",\n",
    "    model=\"gpt-3.5-turbo\",\n",
    "    temperature=0.1,\n",
    ")\n",
    "\n",
    "qa = RetrievalQA.from_chain_type(\n",
    "    llm=llm,\n",
    "    chain_type=\"stuff\",\n",
    "    retriever=retriever,\n",
    ")\n",
    "\n",
    "answer = qa(\"How to add a new case?\")\n",
    "#answer = qa.invoke(\"How to issue a refund? \")\n",
    "print(answer)\n"
   ]
  },
  {
   "cell_type": "code",
   "execution_count": 110,
   "metadata": {},
   "outputs": [
    {
     "data": {
      "text/plain": [
       "[Document(metadata={'source': 'data/abc/_Billings Module ✓.docx', 'text': \"support@vitafyhealth.com | 1-866-4-Vitafy\\n\\nBillings Module\\n\\nSeptember, 2024\\n\\nOverview\\n\\nManaging client billing and service requests is a seamless process with our system. Clients can be billed through a subscription model with the option to access additional services or memberships, and members can request specific services as needed. The billings module allows you to handle transaction statuses and receipts and provides a clear view of upcoming and failed transactions through dedicated tabs.\\n\\n Within the settings module, you can conveniently manage custom service offerings.\\n\\nIntegrated Billings\\n\\nBill clients for memberships or one time transactions straight from within the portal. The portal gives you the option for multiple payment methods including credit/debit, bank transfer and cash. \\n\\nManage Transactions\\n\\nScheduled transactions can be put on hold or canceled from the upcoming tab using the ellipses. Transactions can be refunded from within the portal as well.\\n\\nHow To\\n\\nView all client transactions\\n\\nView/email receipt\\n\\nFilter transaction\\n\\nAdd a transaction / offering\\n\\nIssue a refund\\n\\nView upcoming transactions\\n\\nHold/cancel upcoming transactions\\n\\nView Failed transactions\\n\\nTransactions \\n\\nThis tab has all the information about client transactions including recurring memberships or one-time payments. Transaction type is shown in the description column, if the transaction is for a recurring membership, the dates covered will be shown in the pay period column. Transaction status (succeeded or failed) can also be viewed here. \\n\\nQuick View function (+)\\n\\nThe purpose of this view is to provide a convenient overview of recurring memberships and non-recurring offerings for each client transaction. \\n\\nClick on the + sign on the left-hand side of transactions to get a quick view of client transactions.\\n\\nView/email receipt: \\n\\nReceipts include information such as receipt ID, date/time of the transaction, type of transaction (recurring membership/non-recurring offering/custom offering charges), and the full amount of the transaction. \\n\\nReceipts for each transaction can be viewed and emailed to clients. \\n\\nGo to ⋮ on the far right of the transaction.\\n\\nOption to add notes to the transaction\\n\\nOption to view receipt\\n\\nReceipt will open in a new tab and can be printed by using the  icon on the top right corner\\n\\nOption to email receipt\\n\\nBy clicking confirm, the receipt will be emailed directly to the client.\\n\\nFilter transactions\\n\\nTransactions can be filtered based on clients’ names, transaction start/end date, or transaction offering type. \\n\\nTransactions can be looked up using the search bar to type the client's name, or by using one or multiple filters.\\n\\nUse the  filter icon to filter by:\\n\\nClient First Name\\n\\nClient Last Name\\n\\nTransaction Start Date i.e. membership start date\\n\\nTransaction End Date i.e. membership/pay period end date\\n\\nOffering i.e. one-time transactions\\n\\nAdd a one-time transaction\\n\\nOfferings are non-recurring transactions that can be added for patients with or without an approved membership. \\n\\nClick on the +Add button on the top right\\n\\nSelect a patient from the drop-down\\n\\nSelect an offering\\n\\nOfferings options can be updated by admins in the settings > ancillary offering\\n\\nCustom one-time offerings can be selected by choosing the “Others” option and adding a custom price. (Option to add a note)\\n\\nSelect from payment options:\\n\\nUse the card on file for the selected patient\\n\\nAdd Credit/Debit card\\n\\nBank Transfer\\n\\nCash\\n\\nThis can also be done from the clients module using ⋮ > Add transaction\\n\\nIssue a refund\\n\\nTransactions that have successfully been charged can be refunded back to the original form of payment.\\n\\nUse the ellipses ⋮  on the far right of the transaction you want to refund and choose the refund option.\\n\\nUpcoming transactions\\n\\nThis tab lists clients who are enrolled in recurring memberships and provides details on upcoming transaction charges depending on membership start date and amount. \\n\\nQuick View function (+)\\n\\nThe purpose of this view is to provide a convenient overview of upcoming recurring memberships and non-recurring offerings.\\n\\nClick on the + sign on the left-hand side of transactions to get a quick view of upcoming transaction details.\\n\\nHold/Cancel upcoming transactions\\n\\nUpcoming transactions can be put on hold. This will stop the transaction from being charged to the payment method on file until it has been reactivated. Upcoming recurring charges can be canceled for that particular time period, however, to stop these charges indefinitely, the patient’s membership needs to be canceled by using the clients module. \\n\\nGo to the upcoming transactions tab and use the ellipses ⋮ on the far right of the transaction:\\n\\nChoose  on  hold option. Once put on hold, memberships can be reactivated by choosing the  Activate option\\n\\nChoosethe Cancel option to cancel the particular upcoming transaction (does not cancel all following transactions for that membership).\\n\\nFailed transactions\\n\\nFailed transactions are transactions that did not go through due to issues in the form of the payment method selected for that transaction. It can be viewed using the failed transaction tab. \\n\\nNOTE:  If there are any missing items or if you require access to something mentioned above, please feel free to contact Vitafy support at support@vitafyhealth.com for any inquiries.\"}, page_content=\"support@vitafyhealth.com | 1-866-4-Vitafy\\n\\nBillings Module\\n\\nSeptember, 2024\\n\\nOverview\\n\\nManaging client billing and service requests is a seamless process with our system. Clients can be billed through a subscription model with the option to access additional services or memberships, and members can request specific services as needed. The billings module allows you to handle transaction statuses and receipts and provides a clear view of upcoming and failed transactions through dedicated tabs.\\n\\n Within the settings module, you can conveniently manage custom service offerings.\\n\\nIntegrated Billings\\n\\nBill clients for memberships or one time transactions straight from within the portal. The portal gives you the option for multiple payment methods including credit/debit, bank transfer and cash. \\n\\nManage Transactions\\n\\nScheduled transactions can be put on hold or canceled from the upcoming tab using the ellipses. Transactions can be refunded from within the portal as well.\\n\\nHow To\\n\\nView all client transactions\\n\\nView/email receipt\\n\\nFilter transaction\\n\\nAdd a transaction / offering\\n\\nIssue a refund\\n\\nView upcoming transactions\\n\\nHold/cancel upcoming transactions\\n\\nView Failed transactions\\n\\nTransactions \\n\\nThis tab has all the information about client transactions including recurring memberships or one-time payments. Transaction type is shown in the description column, if the transaction is for a recurring membership, the dates covered will be shown in the pay period column. Transaction status (succeeded or failed) can also be viewed here. \\n\\nQuick View function (+)\\n\\nThe purpose of this view is to provide a convenient overview of recurring memberships and non-recurring offerings for each client transaction. \\n\\nClick on the + sign on the left-hand side of transactions to get a quick view of client transactions.\\n\\nView/email receipt: \\n\\nReceipts include information such as receipt ID, date/time of the transaction, type of transaction (recurring membership/non-recurring offering/custom offering charges), and the full amount of the transaction. \\n\\nReceipts for each transaction can be viewed and emailed to clients. \\n\\nGo to ⋮ on the far right of the transaction.\\n\\nOption to add notes to the transaction\\n\\nOption to view receipt\\n\\nReceipt will open in a new tab and can be printed by using the  icon on the top right corner\\n\\nOption to email receipt\\n\\nBy clicking confirm, the receipt will be emailed directly to the client.\\n\\nFilter transactions\\n\\nTransactions can be filtered based on clients’ names, transaction start/end date, or transaction offering type. \\n\\nTransactions can be looked up using the search bar to type the client's name, or by using one or multiple filters.\\n\\nUse the  filter icon to filter by:\\n\\nClient First Name\\n\\nClient Last Name\\n\\nTransaction Start Date i.e. membership start date\\n\\nTransaction End Date i.e. membership/pay period end date\\n\\nOffering i.e. one-time transactions\\n\\nAdd a one-time transaction\\n\\nOfferings are non-recurring transactions that can be added for patients with or without an approved membership. \\n\\nClick on the +Add button on the top right\\n\\nSelect a patient from the drop-down\\n\\nSelect an offering\\n\\nOfferings options can be updated by admins in the settings > ancillary offering\\n\\nCustom one-time offerings can be selected by choosing the “Others” option and adding a custom price. (Option to add a note)\\n\\nSelect from payment options:\\n\\nUse the card on file for the selected patient\\n\\nAdd Credit/Debit card\\n\\nBank Transfer\\n\\nCash\\n\\nThis can also be done from the clients module using ⋮ > Add transaction\\n\\nIssue a refund\\n\\nTransactions that have successfully been charged can be refunded back to the original form of payment.\\n\\nUse the ellipses ⋮  on the far right of the transaction you want to refund and choose the refund option.\\n\\nUpcoming transactions\\n\\nThis tab lists clients who are enrolled in recurring memberships and provides details on upcoming transaction charges depending on membership start date and amount. \\n\\nQuick View function (+)\\n\\nThe purpose of this view is to provide a convenient overview of upcoming recurring memberships and non-recurring offerings.\\n\\nClick on the + sign on the left-hand side of transactions to get a quick view of upcoming transaction details.\\n\\nHold/Cancel upcoming transactions\\n\\nUpcoming transactions can be put on hold. This will stop the transaction from being charged to the payment method on file until it has been reactivated. Upcoming recurring charges can be canceled for that particular time period, however, to stop these charges indefinitely, the patient’s membership needs to be canceled by using the clients module. \\n\\nGo to the upcoming transactions tab and use the ellipses ⋮ on the far right of the transaction:\\n\\nChoose  on  hold option. Once put on hold, memberships can be reactivated by choosing the  Activate option\\n\\nChoosethe Cancel option to cancel the particular upcoming transaction (does not cancel all following transactions for that membership).\\n\\nFailed transactions\\n\\nFailed transactions are transactions that did not go through due to issues in the form of the payment method selected for that transaction. It can be viewed using the failed transaction tab. \\n\\nNOTE:  If there are any missing items or if you require access to something mentioned above, please feel free to contact Vitafy support at support@vitafyhealth.com for any inquiries.\")]"
      ]
     },
     "execution_count": 110,
     "metadata": {},
     "output_type": "execute_result"
    }
   ],
   "source": [
    "docs"
   ]
  },
  {
   "cell_type": "code",
   "execution_count": 141,
   "metadata": {},
   "outputs": [
    {
     "name": "stdout",
     "output_type": "stream",
     "text": [
      "Question: How to issue a refund?\n",
      "Answer: The answer is not specifically mentioned in the provided documents.\n"
     ]
    }
   ],
   "source": [
    "from langchain.vectorstores import VectorStore\n",
    "from langchain_core.prompts import ChatPromptTemplate\n",
    "from langchain.schema.runnable import RunnablePassthrough\n",
    "from langchain_core.output_parsers import StrOutputParser\n",
    "from langchain.chat_models import ChatOpenAI\n",
    "from langchain.chains import RetrievalQA\n",
    "\n",
    "def setup_retriever(vectorstore: VectorStore, tenantId_path: str):\n",
    "    \"\"\"Set up the retriever with a similarity search type and a document filter.\"\"\"\n",
    "    return vectorstore.as_retriever(\n",
    "        search_type=\"similarity\",\n",
    "        search_kwargs={\n",
    "            \"k\": 1,\n",
    "            \"filter\": {\n",
    "                'tenantId': {'$eq': tenantId_path}\n",
    "            }\n",
    "        }\n",
    "    )\n",
    "\n",
    "def setup_llm(model_name: str = \"gpt-4\", temperature: float = 0.1):\n",
    "    \"\"\"Initialize the ChatOpenAI language model.\"\"\"\n",
    "    return ChatOpenAI(\n",
    "        model=model_name,\n",
    "        temperature=temperature,\n",
    "    )\n",
    "\n",
    "def setup_prompt():\n",
    "    \"\"\"Define the prompt template for question answering based on document content.\"\"\"\n",
    "    template = \"\"\"You are an expert LLM assistant specialized in answering questions based solely on the information provided in the uploaded documents (PDF, DOCX, or TXT formats). Use only the information from the documents to respond accurately and clearly to each question.\n",
    "\n",
    "Guidelines:\n",
    "1. Avoid using outside knowledge or assumptions. Stick strictly to the content in the documents.\n",
    "2. If the answer is not found in the uploaded documents, state, \"The answer is not specifically mentioned in the provided documents.\"\n",
    "3. Maintain a professional and helpful tone as though you are providing customer service based on document information.\n",
    "4. Answer normal conversational questions such as \"Hi\", \"Hello\", etc., with \"Hello, How can I assist you?\".\n",
    "\n",
    "Question: {question}\n",
    "\n",
    "Context: {context}\n",
    "\n",
    "Answer:\n",
    "\"\"\"\n",
    "    return ChatPromptTemplate.from_template(template)\n",
    "\n",
    "def docs2str(docs):\n",
    "    \"\"\"Convert document content to a single string.\"\"\"\n",
    "    return \"\\n\\n\".join(doc.page_content for doc in docs)\n",
    "\n",
    "def create_rag_chain(retriever, llm, prompt):\n",
    "    \"\"\"Build the Retrieval-Augmented Generation (RAG) chain.\"\"\"\n",
    "    return (\n",
    "        {\"context\": retriever | docs2str, \"question\": RunnablePassthrough()}\n",
    "        | prompt\n",
    "        | llm\n",
    "        | StrOutputParser()\n",
    "    )\n",
    "\n",
    "def get_answer(question: str, retriever, llm, prompt):\n",
    "    \"\"\"Generate an answer to the question using the RAG chain.\"\"\"\n",
    "    rag_chain = create_rag_chain(retriever, llm, prompt)\n",
    "    response = rag_chain.invoke(question)\n",
    "    return response\n",
    "\n",
    "def main(question: str, vectorstore: VectorStore, tenantId_path: str):\n",
    "    \"\"\"Main function to handle the entire process.\"\"\"\n",
    "    retriever = setup_retriever(vectorstore, tenantId_path)\n",
    "    llm = setup_llm()\n",
    "    prompt = setup_prompt()\n",
    "    \n",
    "    response = get_answer(question, retriever, llm, prompt)\n",
    "    print(f\"Question: {question}\")\n",
    "    print(f\"Answer: {response}\")\n",
    "\n",
    "# Example usage\n",
    "# vectorstore = PineconeVectorStore.from_documents(split_docs, embeddings, index_name=index_name)\n",
    "tenantId_path = \"xyz\"\n",
    "question = \"How to issue a refund?\"\n",
    "\n",
    "main(question, vectorstore, tenantId_path)\n"
   ]
  },
  {
   "cell_type": "code",
   "execution_count": null,
   "metadata": {},
   "outputs": [],
   "source": []
  },
  {
   "cell_type": "code",
   "execution_count": null,
   "metadata": {},
   "outputs": [],
   "source": []
  },
  {
   "cell_type": "markdown",
   "metadata": {},
   "source": [
    "## Describe Vector Database"
   ]
  },
  {
   "cell_type": "code",
   "execution_count": null,
   "metadata": {},
   "outputs": [
    {
     "data": {
      "text/plain": [
       "{'deletion_protection': 'enabled',\n",
       " 'dimension': 1536,\n",
       " 'host': 'test-3-unx28qm.svc.aped-4627-b74a.pinecone.io',\n",
       " 'metric': 'cosine',\n",
       " 'name': 'test-3',\n",
       " 'spec': {'serverless': {'cloud': 'aws', 'region': 'us-east-1'}},\n",
       " 'status': {'ready': True, 'state': 'Ready'}}"
      ]
     },
     "execution_count": 112,
     "metadata": {},
     "output_type": "execute_result"
    }
   ],
   "source": [
    "pc.describe_index(\"vitafy-prod\")\n"
   ]
  },
  {
   "cell_type": "markdown",
   "metadata": {},
   "source": [
    "## Delete by embeddedId"
   ]
  },
  {
   "cell_type": "code",
   "execution_count": 113,
   "metadata": {},
   "outputs": [],
   "source": [
    "for ids in index.list(prefix='95467427-93bb-43a9-9df2-9c345d6a821f'):\n",
    "    print(ids)\n",
    "    index.delete(ids=ids)"
   ]
  },
  {
   "cell_type": "code",
   "execution_count": 225,
   "metadata": {},
   "outputs": [],
   "source": [
    " # Create a dummy vector with 1536 dimensions\n",
    "vector = [0.1] * 1536\n",
    "\n",
    "# Perform the query on the Pinecone index\n",
    "result = index.query(\n",
    "    namespace=\"\",\n",
    "    vector=vector,\n",
    "    include_values=False,\n",
    "    filter={\n",
    "        \"tenantId\": {\"$eq\": 'abc'}\n",
    "    },\n",
    "    top_k=1,\n",
    "    include_metadata=True\n",
    ")"
   ]
  },
  {
   "cell_type": "code",
   "execution_count": 226,
   "metadata": {},
   "outputs": [
    {
     "data": {
      "text/plain": [
       "{'matches': [{'id': 'b47cfdc7-5378-4267-92fb-83fc8028ed16',\n",
       "              'metadata': {'filename': 'Billings Module.docx',\n",
       "                           'source': '/Users/ujjwal/Desktop/NoveltyFiles/Vitafy-AI-CHAT/data/abc/Billings '\n",
       "                                     'Module.docx',\n",
       "                           'tenantId': 'abc',\n",
       "                           'text': 'support@vitafyhealth.com | 1-866-4-Vitafy\\n'\n",
       "                                   '\\n'\n",
       "                                   'Billings Module\\n'\n",
       "                                   '\\n'\n",
       "                                   'September, 2024\\n'\n",
       "                                   '\\n'\n",
       "                                   'Overview\\n'\n",
       "                                   '\\n'\n",
       "                                   'Managing client billing and service '\n",
       "                                   'requests is a seamless process with our '\n",
       "                                   'system. Clients can be billed through a '\n",
       "                                   'subscription model with the option to '\n",
       "                                   'access additional services or memberships, '\n",
       "                                   'and members can request specific services '\n",
       "                                   'as needed. The billings module allows you '\n",
       "                                   'to handle transaction statuses and '\n",
       "                                   'receipts and provides a clear view of '\n",
       "                                   'upcoming and failed transactions through '\n",
       "                                   'dedicated tabs.\\n'\n",
       "                                   '\\n'\n",
       "                                   ' Within the settings module, you can '\n",
       "                                   'conveniently manage custom service '\n",
       "                                   'offerings.\\n'\n",
       "                                   '\\n'\n",
       "                                   'Integrated Billings\\n'\n",
       "                                   '\\n'\n",
       "                                   'Bill clients for memberships or one time '\n",
       "                                   'transactions straight from within the '\n",
       "                                   'portal. The portal gives you the option '\n",
       "                                   'for multiple payment methods including '\n",
       "                                   'credit/debit, bank transfer and cash. \\n'\n",
       "                                   '\\n'\n",
       "                                   'Manage Transactions\\n'\n",
       "                                   '\\n'\n",
       "                                   'Scheduled transactions can be put on hold '\n",
       "                                   'or canceled from the upcoming tab using '\n",
       "                                   'the ellipses. Transactions can be refunded '\n",
       "                                   'from within the portal as well.\\n'\n",
       "                                   '\\n'\n",
       "                                   'How To\\n'\n",
       "                                   '\\n'\n",
       "                                   'View all client transactions\\n'\n",
       "                                   '\\n'\n",
       "                                   'View/email receipt\\n'\n",
       "                                   '\\n'\n",
       "                                   'Filter transaction\\n'\n",
       "                                   '\\n'\n",
       "                                   'Add a transaction / offering\\n'\n",
       "                                   '\\n'\n",
       "                                   'Issue a refund\\n'\n",
       "                                   '\\n'\n",
       "                                   'View upcoming transactions\\n'\n",
       "                                   '\\n'\n",
       "                                   'Hold/cancel upcoming transactions\\n'\n",
       "                                   '\\n'\n",
       "                                   'View Failed transactions\\n'\n",
       "                                   '\\n'\n",
       "                                   'Transactions \\n'\n",
       "                                   '\\n'\n",
       "                                   'This tab has all the information about '\n",
       "                                   'client transactions including recurring '\n",
       "                                   'memberships or one-time payments. '\n",
       "                                   'Transaction type is shown in the '\n",
       "                                   'description column, if the transaction is '\n",
       "                                   'for a recurring membership, the dates '\n",
       "                                   'covered will be shown in the pay period '\n",
       "                                   'column. Transaction status (succeeded or '\n",
       "                                   'failed) can also be viewed here. \\n'\n",
       "                                   '\\n'\n",
       "                                   'Quick View function (+)\\n'\n",
       "                                   '\\n'\n",
       "                                   'The purpose of this view is to provide a '\n",
       "                                   'convenient overview of recurring '\n",
       "                                   'memberships and non-recurring offerings '\n",
       "                                   'for each client transaction. \\n'\n",
       "                                   '\\n'\n",
       "                                   'Click on the + sign on the left-hand side '\n",
       "                                   'of transactions to get a quick view of '\n",
       "                                   'client transactions.\\n'\n",
       "                                   '\\n'\n",
       "                                   'View/email receipt: \\n'\n",
       "                                   '\\n'\n",
       "                                   'Receipts include information such as '\n",
       "                                   'receipt ID, date/time of the transaction, '\n",
       "                                   'type of transaction (recurring '\n",
       "                                   'membership/non-recurring offering/custom '\n",
       "                                   'offering charges), and the full amount of '\n",
       "                                   'the transaction. \\n'\n",
       "                                   '\\n'\n",
       "                                   'Receipts for each transaction can be '\n",
       "                                   'viewed and emailed to clients. \\n'\n",
       "                                   '\\n'\n",
       "                                   'Go to ⋮ on the far right of the '\n",
       "                                   'transaction.\\n'\n",
       "                                   '\\n'\n",
       "                                   'Option to add notes to the transaction\\n'\n",
       "                                   '\\n'\n",
       "                                   'Option to view receipt\\n'\n",
       "                                   '\\n'\n",
       "                                   'Receipt will open in a new tab and can be '\n",
       "                                   'printed by using the  icon on the top '\n",
       "                                   'right corner\\n'\n",
       "                                   '\\n'\n",
       "                                   'Option to email receipt\\n'\n",
       "                                   '\\n'\n",
       "                                   'By clicking confirm, the receipt will be '\n",
       "                                   'emailed directly to the client.\\n'\n",
       "                                   '\\n'\n",
       "                                   'Filter transactions\\n'\n",
       "                                   '\\n'\n",
       "                                   'Transactions can be filtered based on '\n",
       "                                   'clients’ names, transaction start/end '\n",
       "                                   'date, or transaction offering type. \\n'\n",
       "                                   '\\n'\n",
       "                                   'Transactions can be looked up using the '\n",
       "                                   \"search bar to type the client's name, or \"\n",
       "                                   'by using one or multiple filters.\\n'\n",
       "                                   '\\n'\n",
       "                                   'Use the  filter icon to filter by:\\n'\n",
       "                                   '\\n'\n",
       "                                   'Client First Name\\n'\n",
       "                                   '\\n'\n",
       "                                   'Client Last Name\\n'\n",
       "                                   '\\n'\n",
       "                                   'Transaction Start Date i.e. membership '\n",
       "                                   'start date\\n'\n",
       "                                   '\\n'\n",
       "                                   'Transaction End Date i.e. membership/pay '\n",
       "                                   'period end date\\n'\n",
       "                                   '\\n'\n",
       "                                   'Offering i.e. one-time transactions\\n'\n",
       "                                   '\\n'\n",
       "                                   'Add a one-time transaction\\n'\n",
       "                                   '\\n'\n",
       "                                   'Offerings are non-recurring transactions '\n",
       "                                   'that can be added for patients with or '\n",
       "                                   'without an approved membership. \\n'\n",
       "                                   '\\n'\n",
       "                                   'Click on the +Add button on the top right\\n'\n",
       "                                   '\\n'\n",
       "                                   'Select a patient from the drop-down\\n'\n",
       "                                   '\\n'\n",
       "                                   'Select an offering\\n'\n",
       "                                   '\\n'\n",
       "                                   'Offerings options can be updated by admins '\n",
       "                                   'in the settings > ancillary offering\\n'\n",
       "                                   '\\n'\n",
       "                                   'Custom one-time offerings can be selected '\n",
       "                                   'by choosing the “Others” option and adding '\n",
       "                                   'a custom price. (Option to add a note)\\n'\n",
       "                                   '\\n'\n",
       "                                   'Select from payment options:\\n'\n",
       "                                   '\\n'\n",
       "                                   'Use the card on file for the selected '\n",
       "                                   'patient\\n'\n",
       "                                   '\\n'\n",
       "                                   'Add Credit/Debit card\\n'\n",
       "                                   '\\n'\n",
       "                                   'Bank Transfer\\n'\n",
       "                                   '\\n'\n",
       "                                   'Cash\\n'\n",
       "                                   '\\n'\n",
       "                                   'This can also be done from the clients '\n",
       "                                   'module using ⋮ > Add transaction\\n'\n",
       "                                   '\\n'\n",
       "                                   'Issue a refund\\n'\n",
       "                                   '\\n'\n",
       "                                   'Transactions that have successfully been '\n",
       "                                   'charged can be refunded back to the '\n",
       "                                   'original form of payment.\\n'\n",
       "                                   '\\n'\n",
       "                                   'Use the ellipses ⋮  on the far right of '\n",
       "                                   'the transaction you want to refund and '\n",
       "                                   'choose the refund option.\\n'\n",
       "                                   '\\n'\n",
       "                                   'Upcoming transactions\\n'\n",
       "                                   '\\n'\n",
       "                                   'This tab lists clients who are enrolled in '\n",
       "                                   'recurring memberships and provides details '\n",
       "                                   'on upcoming transaction charges depending '\n",
       "                                   'on membership start date and amount. \\n'\n",
       "                                   '\\n'\n",
       "                                   'Quick View function (+)\\n'\n",
       "                                   '\\n'\n",
       "                                   'The purpose of this view is to provide a '\n",
       "                                   'convenient overview of upcoming recurring '\n",
       "                                   'memberships and non-recurring offerings.\\n'\n",
       "                                   '\\n'\n",
       "                                   'Click on the + sign on the left-hand side '\n",
       "                                   'of transactions to get a quick view of '\n",
       "                                   'upcoming transaction details.\\n'\n",
       "                                   '\\n'\n",
       "                                   'Hold/Cancel upcoming transactions\\n'\n",
       "                                   '\\n'\n",
       "                                   'Upcoming transactions can be put on hold. '\n",
       "                                   'This will stop the transaction from being '\n",
       "                                   'charged to the payment method on file '\n",
       "                                   'until it has been reactivated. Upcoming '\n",
       "                                   'recurring charges can be canceled for that '\n",
       "                                   'particular time period, however, to stop '\n",
       "                                   'these charges indefinitely, the patient’s '\n",
       "                                   'membership needs to be canceled by using '\n",
       "                                   'the clients module. \\n'\n",
       "                                   '\\n'\n",
       "                                   'Go to the upcoming transactions tab and '\n",
       "                                   'use the ellipses ⋮ on the far right of the '\n",
       "                                   'transaction:\\n'\n",
       "                                   '\\n'\n",
       "                                   'Choose  on  hold option. Once put on hold, '\n",
       "                                   'memberships can be reactivated by choosing '\n",
       "                                   'the  Activate option\\n'\n",
       "                                   '\\n'\n",
       "                                   'Choosethe Cancel option to cancel the '\n",
       "                                   'particular upcoming transaction (does not '\n",
       "                                   'cancel all following transactions for that '\n",
       "                                   'membership).\\n'\n",
       "                                   '\\n'\n",
       "                                   'Failed transactions\\n'\n",
       "                                   '\\n'\n",
       "                                   'Failed transactions are transactions that '\n",
       "                                   'did not go through due to issues in the '\n",
       "                                   'form of the payment method selected for '\n",
       "                                   'that transaction. It can be viewed using '\n",
       "                                   'the failed transaction tab. \\n'\n",
       "                                   '\\n'\n",
       "                                   'NOTE:  If there are any missing items or '\n",
       "                                   'if you require access to something '\n",
       "                                   'mentioned above, please feel free to '\n",
       "                                   'contact Vitafy support at '\n",
       "                                   'support@vitafyhealth.com for any '\n",
       "                                   'inquiries.'},\n",
       "              'score': -0.028189065,\n",
       "              'sparse_values': {'indices': [], 'values': []},\n",
       "              'values': []}],\n",
       " 'namespace': '',\n",
       " 'usage': {'read_units': 6}}"
      ]
     },
     "execution_count": 226,
     "metadata": {},
     "output_type": "execute_result"
    }
   ],
   "source": [
    "result"
   ]
  },
  {
   "cell_type": "code",
   "execution_count": null,
   "metadata": {},
   "outputs": [],
   "source": []
  },
  {
   "cell_type": "code",
   "execution_count": null,
   "metadata": {},
   "outputs": [],
   "source": []
  },
  {
   "cell_type": "code",
   "execution_count": null,
   "metadata": {},
   "outputs": [],
   "source": []
  },
  {
   "cell_type": "code",
   "execution_count": null,
   "metadata": {},
   "outputs": [],
   "source": []
  },
  {
   "cell_type": "code",
   "execution_count": null,
   "metadata": {},
   "outputs": [],
   "source": []
  }
 ],
 "metadata": {
  "kernelspec": {
   "display_name": "Python 3",
   "language": "python",
   "name": "python3"
  },
  "language_info": {
   "codemirror_mode": {
    "name": "ipython",
    "version": 3
   },
   "file_extension": ".py",
   "mimetype": "text/x-python",
   "name": "python",
   "nbconvert_exporter": "python",
   "pygments_lexer": "ipython3",
   "version": "3.9.6"
  }
 },
 "nbformat": 4,
 "nbformat_minor": 2
}
